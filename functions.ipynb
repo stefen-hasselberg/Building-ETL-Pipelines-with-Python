{
 "cells": [
  {
   "cell_type": "code",
   "execution_count": 1,
   "metadata": {},
   "outputs": [
    {
     "name": "stdout",
     "output_type": "stream",
     "text": [
      "num2 is zero\n",
      "2.0\n"
     ]
    }
   ],
   "source": [
    "def div_of_numbers(num1, num2):\n",
    "    \"\"\"\n",
    "        This function returns the division of num1 by num2\n",
    "\n",
    "        This function takes two parameters namely num1 and num2\n",
    "    \"\"\"\n",
    "    if num2 == 0:\n",
    "        # Below is a return statment\n",
    "        return 'num2 is zero'\n",
    "    else:\n",
    "        # Below is another return statement\n",
    "        return num1/num2\n",
    "    \n",
    "# This is how a python function is called\n",
    "\n",
    "print(div_of_numbers(8,0))\n",
    "print(div_of_numbers(8,4))\n",
    "    "
   ]
  },
  {
   "cell_type": "code",
   "execution_count": null,
   "metadata": {},
   "outputs": [],
   "source": []
  }
 ],
 "metadata": {
  "kernelspec": {
   "display_name": "base",
   "language": "python",
   "name": "python3"
  },
  "language_info": {
   "codemirror_mode": {
    "name": "ipython",
    "version": 3
   },
   "file_extension": ".py",
   "mimetype": "text/x-python",
   "name": "python",
   "nbconvert_exporter": "python",
   "pygments_lexer": "ipython3",
   "version": "3.11.4"
  }
 },
 "nbformat": 4,
 "nbformat_minor": 2
}
