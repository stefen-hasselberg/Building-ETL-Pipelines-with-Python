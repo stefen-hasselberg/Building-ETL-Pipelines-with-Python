{
 "cells": [
  {
   "cell_type": "code",
   "execution_count": 1,
   "metadata": {},
   "outputs": [],
   "source": [
    "count = 0"
   ]
  },
  {
   "cell_type": "code",
   "execution_count": 2,
   "metadata": {},
   "outputs": [
    {
     "name": "stdout",
     "output_type": "stream",
     "text": [
      "The current numbers is:  0\n",
      "While loop terminates here\n",
      "The current numbers is:  1\n",
      "While loop terminates here\n",
      "The current numbers is:  2\n",
      "While loop terminates here\n",
      "The current numbers is:  3\n",
      "While loop terminates here\n",
      "The current numbers is:  4\n",
      "While loop terminates here\n",
      "The current numbers is:  5\n",
      "While loop terminates here\n",
      "The current numbers is:  6\n",
      "While loop terminates here\n",
      "The current numbers is:  7\n",
      "While loop terminates here\n",
      "The current numbers is:  8\n",
      "While loop terminates here\n",
      "The current numbers is:  9\n",
      "While loop terminates here\n",
      "The current numbers is:  10\n",
      "While loop terminates here\n"
     ]
    }
   ],
   "source": [
    "while (count < 11):\n",
    "    print(\"The current numbers is: \", count)\n",
    "    count = count + 1\n",
    "    print(\"While loop terminates here\")"
   ]
  },
  {
   "cell_type": "code",
   "execution_count": null,
   "metadata": {},
   "outputs": [],
   "source": []
  }
 ],
 "metadata": {
  "kernelspec": {
   "display_name": "base",
   "language": "python",
   "name": "python3"
  },
  "language_info": {
   "codemirror_mode": {
    "name": "ipython",
    "version": 3
   },
   "file_extension": ".py",
   "mimetype": "text/x-python",
   "name": "python",
   "nbconvert_exporter": "python",
   "pygments_lexer": "ipython3",
   "version": "3.11.4"
  }
 },
 "nbformat": 4,
 "nbformat_minor": 2
}
