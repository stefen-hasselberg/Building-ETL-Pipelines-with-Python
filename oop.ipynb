{
 "cells": [
  {
   "cell_type": "code",
   "execution_count": 1,
   "metadata": {},
   "outputs": [],
   "source": [
    "#Simple Class\n",
    "class DataPipeline():\n",
    "    first_tool = \"AirFlow\"\n",
    "\n",
    "datapipeline = DataPipeline()"
   ]
  },
  {
   "cell_type": "code",
   "execution_count": 2,
   "metadata": {},
   "outputs": [
    {
     "name": "stdout",
     "output_type": "stream",
     "text": [
      "AirFlow\n"
     ]
    }
   ],
   "source": [
    "print(datapipeline.first_tool)"
   ]
  },
  {
   "cell_type": "code",
   "execution_count": 3,
   "metadata": {},
   "outputs": [],
   "source": [
    "# Parent Class\n",
    "class DataPipelineBook():\n",
    "\n",
    "    def __init__(self) -> None:\n",
    "        print(\"This book is very hot in the market\")\n",
    "        self.pages = 300\n",
    "\n",
    "    def what_is_self(self):\n",
    "        print('Book')\n",
    "\n",
    "    def pages(self):\n",
    "        return self.pages\n"
   ]
  },
  {
   "cell_type": "code",
   "execution_count": 6,
   "metadata": {},
   "outputs": [],
   "source": [
    "# Child Class\n",
    "class PythonDataPipelineBook(DataPipelineBook):\n",
    "    def __init__(self) -> None:\n",
    "        # call super function\n",
    "        super().__init__()\n",
    "        print(\"Create Data Pipeline with Python\")\n",
    "\n",
    "    def what_technology_is_used(self):\n",
    "        return \"Python\"\n",
    "    "
   ]
  },
  {
   "cell_type": "code",
   "execution_count": 7,
   "metadata": {},
   "outputs": [
    {
     "name": "stdout",
     "output_type": "stream",
     "text": [
      "This book is very hot in the market\n",
      "Create Data Pipeline with Python\n"
     ]
    }
   ],
   "source": [
    "pipeline = PythonDataPipelineBook()"
   ]
  },
  {
   "cell_type": "code",
   "execution_count": 8,
   "metadata": {},
   "outputs": [
    {
     "data": {
      "text/plain": [
       "'Python'"
      ]
     },
     "execution_count": 8,
     "metadata": {},
     "output_type": "execute_result"
    }
   ],
   "source": [
    "pipeline.what_technology_is_used()"
   ]
  },
  {
   "cell_type": "code",
   "execution_count": 9,
   "metadata": {},
   "outputs": [
    {
     "name": "stdout",
     "output_type": "stream",
     "text": [
      "Book\n"
     ]
    }
   ],
   "source": [
    "pipeline.what_is_self()"
   ]
  },
  {
   "cell_type": "code",
   "execution_count": null,
   "metadata": {},
   "outputs": [],
   "source": []
  }
 ],
 "metadata": {
  "kernelspec": {
   "display_name": "base",
   "language": "python",
   "name": "python3"
  },
  "language_info": {
   "codemirror_mode": {
    "name": "ipython",
    "version": 3
   },
   "file_extension": ".py",
   "mimetype": "text/x-python",
   "name": "python",
   "nbconvert_exporter": "python",
   "pygments_lexer": "ipython3",
   "version": "3.11.4"
  }
 },
 "nbformat": 4,
 "nbformat_minor": 2
}
